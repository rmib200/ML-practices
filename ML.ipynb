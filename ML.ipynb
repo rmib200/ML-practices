{
 "cells": [
  {
   "cell_type": "code",
   "execution_count": 3,
   "metadata": {},
   "outputs": [
    {
     "name": "stdout",
     "output_type": "stream",
     "text": [
      "[[ 45  50  90]\n",
      " [789  98  80]]\n"
     ]
    }
   ],
   "source": [
    "import numpy as np\n",
    "\n",
    "a = np.matrix([[45, 50 ,  90], [789, 98, 80]])\n",
    "print(a)"
   ]
  },
  {
   "cell_type": "code",
   "execution_count": 9,
   "metadata": {},
   "outputs": [
    {
     "name": "stdout",
     "output_type": "stream",
     "text": [
      "[[90]\n",
      " [80]]\n"
     ]
    }
   ],
   "source": [
    "print(a[:,2])"
   ]
  },
  {
   "cell_type": "code",
   "execution_count": 12,
   "metadata": {},
   "outputs": [
    {
     "name": "stdout",
     "output_type": "stream",
     "text": [
      "(matrix([[ 45,  50,  90],\n",
      "        [789,  98,  80]]), array([[0., 0.],\n",
      "       [0., 0.],\n",
      "       [0., 0.],\n",
      "       [0., 0.],\n",
      "       [0., 0.]]))\n"
     ]
    }
   ],
   "source": [
    "b = np.zeros((5,2))\n",
    "a2 = a, b\n",
    "print(a2)"
   ]
  },
  {
   "cell_type": "code",
   "execution_count": 18,
   "metadata": {},
   "outputs": [],
   "source": [
    "c = np.matrix('45, 45,34;45,367,23')"
   ]
  },
  {
   "cell_type": "code",
   "execution_count": 17,
   "metadata": {},
   "outputs": [
    {
     "name": "stdout",
     "output_type": "stream",
     "text": [
      "[[0. 0.]\n",
      " [0. 0.]\n",
      " [0. 0.]\n",
      " [0. 0.]\n",
      " [0. 0.]]\n"
     ]
    }
   ],
   "source": [
    "print(b)"
   ]
  },
  {
   "cell_type": "code",
   "execution_count": 23,
   "metadata": {},
   "outputs": [
    {
     "name": "stdout",
     "output_type": "stream",
     "text": [
      "[[ 0  1  2  3  4  5  6  7  8  9]\n",
      " [10 11 12 13 14 15 16 17 18 19]\n",
      " [20 21 22 23 24 25 26 27 28 29]\n",
      " [30 31 32 33 34 35 36 37 38 39]\n",
      " [40 41 42 43 44 45 46 47 48 49]\n",
      " [50 51 52 53 54 55 56 57 58 59]]\n"
     ]
    }
   ],
   "source": [
    "ar = np.arange(60).reshape(6,10)\n",
    "print(ar)"
   ]
  },
  {
   "cell_type": "code",
   "execution_count": 41,
   "metadata": {},
   "outputs": [
    {
     "name": "stdout",
     "output_type": "stream",
     "text": [
      "[[ 0  1  2  3  4  5]\n",
      " [ 6  7  8  9 10 11]\n",
      " [12 13 14 15 16 17]\n",
      " [18 19 20 21 22 23]\n",
      " [24 25 26 27 28 29]\n",
      " [30 31 32 33 34 35]\n",
      " [36 37 38 39 40 41]\n",
      " [42 43 44 45 46 47]\n",
      " [48 49 50 51 52 53]\n",
      " [54 55 56 57 58 59]]\n"
     ]
    }
   ],
   "source": [
    "ar2 = np.arange(60).reshape(10,6)\n",
    "print(ar2)"
   ]
  },
  {
   "cell_type": "code",
   "execution_count": 47,
   "metadata": {},
   "outputs": [
    {
     "name": "stdout",
     "output_type": "stream",
     "text": [
      "[[ 0  6 12 18 24 30 36 42 48 54]\n",
      " [ 1  7 13 19 25 31 37 43 49 55]\n",
      " [ 2  8 14 20 26 32 38 44 50 56]\n",
      " [ 3  9 15 21 27 33 39 45 51 57]\n",
      " [ 4 10 16 22 28 34 40 46 52 58]\n",
      " [ 5 11 17 23 29 35 41 47 53 59]]\n"
     ]
    }
   ],
   "source": [
    "#.T is to transpose a matrix!!\n",
    "ar3 = ar2.T\n",
    "print(ar3)"
   ]
  },
  {
   "cell_type": "code",
   "execution_count": 53,
   "metadata": {},
   "outputs": [
    {
     "name": "stdout",
     "output_type": "stream",
     "text": [
      "[[   55   145   235   325   415   505   595   685   775   865]\n",
      " [  145   451   757  1063  1369  1675  1981  2287  2593  2899]\n",
      " [  235   757  1279  1801  2323  2845  3367  3889  4411  4933]\n",
      " [  325  1063  1801  2539  3277  4015  4753  5491  6229  6967]\n",
      " [  415  1369  2323  3277  4231  5185  6139  7093  8047  9001]\n",
      " [  505  1675  2845  4015  5185  6355  7525  8695  9865 11035]\n",
      " [  595  1981  3367  4753  6139  7525  8911 10297 11683 13069]\n",
      " [  685  2287  3889  5491  7093  8695 10297 11899 13501 15103]\n",
      " [  775  2593  4411  6229  8047  9865 11683 13501 15319 17137]\n",
      " [  865  2899  4933  6967  9001 11035 13069 15103 17137 19171]]\n"
     ]
    }
   ],
   "source": [
    "#use np.dot() instead of *, python uses .dot() to multiply matrices\n",
    "#ar2*ar3 doesn't work :(\n",
    "h = np.dot(ar2,ar3)\n",
    "print(h)"
   ]
  },
  {
   "cell_type": "code",
   "execution_count": 40,
   "metadata": {},
   "outputs": [
    {
     "data": {
      "text/plain": [
       "6"
      ]
     },
     "execution_count": 40,
     "metadata": {},
     "output_type": "execute_result"
    }
   ],
   "source": [
    "a = np.matrix('2, 3;3, 4; 1,2')\n",
    "b = np.matrix('3,2,3;1,1,0')\n",
    "np.size(a)\n",
    "np.size(b)\n"
   ]
  },
  {
   "cell_type": "code",
   "execution_count": 34,
   "metadata": {},
   "outputs": [
    {
     "data": {
      "text/plain": [
       "matrix([[ 9,  7,  6],\n",
       "        [13, 10,  9],\n",
       "        [ 5,  4,  3]])"
      ]
     },
     "execution_count": 34,
     "metadata": {},
     "output_type": "execute_result"
    }
   ],
   "source": [
    "a*b\n"
   ]
  },
  {
   "cell_type": "code",
   "execution_count": 36,
   "metadata": {},
   "outputs": [
    {
     "data": {
      "text/plain": [
       "matrix([[27,  9],\n",
       "        [18,  9],\n",
       "        [27,  0]])"
      ]
     },
     "execution_count": 36,
     "metadata": {},
     "output_type": "execute_result"
    }
   ],
   "source": [
    "b.T*9\n"
   ]
  },
  {
   "cell_type": "code",
   "execution_count": 56,
   "metadata": {},
   "outputs": [
    {
     "data": {
      "text/plain": [
       "(10, 10)"
      ]
     },
     "execution_count": 56,
     "metadata": {},
     "output_type": "execute_result"
    }
   ],
   "source": [
    "#np.shape() instead of size in matlab\n",
    "np.shape(h)"
   ]
  },
  {
   "cell_type": "code",
   "execution_count": 57,
   "metadata": {},
   "outputs": [
    {
     "name": "stdout",
     "output_type": "stream",
     "text": [
      "[[ 0  1  2  3  4  5  6  7  8  9]\n",
      " [10 11 12 13 14 15 16 17 18 19]\n",
      " [20 21 22 23 24 25 26 27 28 29]\n",
      " [30 31 32 33 34 35 36 37 38 39]\n",
      " [40 41 42 43 44 45 46 47 48 49]\n",
      " [50 51 52 53 54 55 56 57 58 59]\n",
      " [60 61 62 63 64 65 66 67 68 69]\n",
      " [70 71 72 73 74 75 76 77 78 79]\n",
      " [80 81 82 83 84 85 86 87 88 89]\n",
      " [90 91 92 93 94 95 96 97 98 99]]\n"
     ]
    }
   ],
   "source": [
    "j = np.arange(100).reshape(10,10)\n",
    "print(j)"
   ]
  },
  {
   "cell_type": "code",
   "execution_count": 58,
   "metadata": {},
   "outputs": [
    {
     "data": {
      "text/plain": [
       "array([[ 281250,  937350, 1593450, 2249550, 2905650, 3561750, 4217850,\n",
       "        4873950, 5530050, 6186150],\n",
       "       [ 285850,  952570, 1619290, 2286010, 2952730, 3619450, 4286170,\n",
       "        4952890, 5619610, 6286330],\n",
       "       [ 290450,  967790, 1645130, 2322470, 2999810, 3677150, 4354490,\n",
       "        5031830, 5709170, 6386510],\n",
       "       [ 295050,  983010, 1670970, 2358930, 3046890, 3734850, 4422810,\n",
       "        5110770, 5798730, 6486690],\n",
       "       [ 299650,  998230, 1696810, 2395390, 3093970, 3792550, 4491130,\n",
       "        5189710, 5888290, 6586870],\n",
       "       [ 304250, 1013450, 1722650, 2431850, 3141050, 3850250, 4559450,\n",
       "        5268650, 5977850, 6687050],\n",
       "       [ 308850, 1028670, 1748490, 2468310, 3188130, 3907950, 4627770,\n",
       "        5347590, 6067410, 6787230],\n",
       "       [ 313450, 1043890, 1774330, 2504770, 3235210, 3965650, 4696090,\n",
       "        5426530, 6156970, 6887410],\n",
       "       [ 318050, 1059110, 1800170, 2541230, 3282290, 4023350, 4764410,\n",
       "        5505470, 6246530, 6987590],\n",
       "       [ 322650, 1074330, 1826010, 2577690, 3329370, 4081050, 4832730,\n",
       "        5584410, 6336090, 7087770]])"
      ]
     },
     "execution_count": 58,
     "metadata": {},
     "output_type": "execute_result"
    }
   ],
   "source": [
    "np.dot(j.T,h)"
   ]
  },
  {
   "cell_type": "code",
   "execution_count": 59,
   "metadata": {},
   "outputs": [
    {
     "data": {
      "text/plain": [
       "(10, 10)"
      ]
     },
     "execution_count": 59,
     "metadata": {},
     "output_type": "execute_result"
    }
   ],
   "source": [
    "np.shape(np.dot(j.T,h))"
   ]
  }
 ],
 "metadata": {
  "kernelspec": {
   "display_name": "Python 3",
   "language": "python",
   "name": "python3"
  },
  "language_info": {
   "codemirror_mode": {
    "name": "ipython",
    "version": 3
   },
   "file_extension": ".py",
   "mimetype": "text/x-python",
   "name": "python",
   "nbconvert_exporter": "python",
   "pygments_lexer": "ipython3",
   "version": "3.6.5"
  }
 },
 "nbformat": 4,
 "nbformat_minor": 2
}
